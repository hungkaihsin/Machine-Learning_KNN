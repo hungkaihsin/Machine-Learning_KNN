{
 "cells": [
  {
   "cell_type": "code",
   "execution_count": 1,
   "metadata": {},
   "outputs": [],
   "source": [
    "import pandas as pd\n",
    "import numpy as np"
   ]
  },
  {
   "cell_type": "code",
   "execution_count": 2,
   "metadata": {},
   "outputs": [
    {
     "data": {
      "text/html": [
       "<div>\n",
       "<style scoped>\n",
       "    .dataframe tbody tr th:only-of-type {\n",
       "        vertical-align: middle;\n",
       "    }\n",
       "\n",
       "    .dataframe tbody tr th {\n",
       "        vertical-align: top;\n",
       "    }\n",
       "\n",
       "    .dataframe thead th {\n",
       "        text-align: right;\n",
       "    }\n",
       "</style>\n",
       "<table border=\"1\" class=\"dataframe\">\n",
       "  <thead>\n",
       "    <tr style=\"text-align: right;\">\n",
       "      <th></th>\n",
       "      <th>trainPoints_x1</th>\n",
       "      <th>trainPoints_x2</th>\n",
       "      <th>trainLabel</th>\n",
       "      <th>testPoints_x1</th>\n",
       "      <th>testPoints_x2</th>\n",
       "      <th>testLabel</th>\n",
       "    </tr>\n",
       "  </thead>\n",
       "  <tbody>\n",
       "    <tr>\n",
       "      <th>0</th>\n",
       "      <td>1.947005</td>\n",
       "      <td>4.256560</td>\n",
       "      <td>-1</td>\n",
       "      <td>-1.888977</td>\n",
       "      <td>-4.622611</td>\n",
       "      <td>1</td>\n",
       "    </tr>\n",
       "    <tr>\n",
       "      <th>1</th>\n",
       "      <td>0.794931</td>\n",
       "      <td>3.556851</td>\n",
       "      <td>-1</td>\n",
       "      <td>4.233796</td>\n",
       "      <td>3.851680</td>\n",
       "      <td>1</td>\n",
       "    </tr>\n",
       "    <tr>\n",
       "      <th>2</th>\n",
       "      <td>-0.264977</td>\n",
       "      <td>2.128280</td>\n",
       "      <td>-1</td>\n",
       "      <td>-0.697926</td>\n",
       "      <td>4.132868</td>\n",
       "      <td>-1</td>\n",
       "    </tr>\n",
       "    <tr>\n",
       "      <th>3</th>\n",
       "      <td>-1.555300</td>\n",
       "      <td>0.408163</td>\n",
       "      <td>-1</td>\n",
       "      <td>-3.151837</td>\n",
       "      <td>2.961839</td>\n",
       "      <td>-1</td>\n",
       "    </tr>\n",
       "    <tr>\n",
       "      <th>4</th>\n",
       "      <td>-0.956221</td>\n",
       "      <td>-0.991254</td>\n",
       "      <td>-1</td>\n",
       "      <td>4.048810</td>\n",
       "      <td>-4.012877</td>\n",
       "      <td>1</td>\n",
       "    </tr>\n",
       "  </tbody>\n",
       "</table>\n",
       "</div>"
      ],
      "text/plain": [
       "   trainPoints_x1  trainPoints_x2  trainLabel  testPoints_x1  testPoints_x2  \\\n",
       "0        1.947005        4.256560          -1      -1.888977      -4.622611   \n",
       "1        0.794931        3.556851          -1       4.233796       3.851680   \n",
       "2       -0.264977        2.128280          -1      -0.697926       4.132868   \n",
       "3       -1.555300        0.408163          -1      -3.151837       2.961839   \n",
       "4       -0.956221       -0.991254          -1       4.048810      -4.012877   \n",
       "\n",
       "   testLabel  \n",
       "0          1  \n",
       "1          1  \n",
       "2         -1  \n",
       "3         -1  \n",
       "4          1  "
      ]
     },
     "execution_count": 2,
     "metadata": {},
     "output_type": "execute_result"
    }
   ],
   "source": [
    "data = pd.read_csv('knnData.csv')\n",
    "data.head()"
   ]
  },
  {
   "cell_type": "code",
   "execution_count": null,
   "metadata": {},
   "outputs": [],
   "source": [
    "# Convert dataFrame values to array\n",
    "train_x  = data[['trainPoints_x1', 'trainPoints_x2']].to_numpy()\n",
    "train_y = data['trainLabel'].to_numpy()\n",
    "test_x = data[['testPoints_x1', 'testPoints_x2']].to_numpy()\n",
    "test_y = data['testLabel'].to_numpy()"
   ]
  },
  {
   "cell_type": "code",
   "execution_count": 11,
   "metadata": {},
   "outputs": [],
   "source": [
    "def L1_norm(x, y):\n",
    "    return np.sum(np.abs(x - y))\n",
    "\n",
    "def L2_norm(x, y):\n",
    "\n",
    "    return np.sqrt(np.sum((x - y) ** 2))\n",
    "\n",
    "def L_inf(x, y):\n",
    "    return np.max(np.abs(x - y))"
   ]
  },
  {
   "cell_type": "code",
   "execution_count": null,
   "metadata": {},
   "outputs": [],
   "source": [
    "def KNN(distance_function):\n",
    "\n",
    "    prediction_list = []\n",
    "\n",
    "    # all row of train points calculate single row of test points\n",
    "    for test_point in test_x:\n",
    "        distance_list = []\n",
    "        for index, train_point in enumerate(train_x):\n",
    "            \n",
    "            distance = distance_function(train_point, test_point)\n",
    "\n",
    "            # add distance with their label\n",
    "            distance_list.append((distance, train_y[index]))\n",
    "            distance_list.sort()\n",
    "\n",
    "        # for k = 3\n",
    "        distance_list = distance_list[:3]\n",
    "\n",
    "        weight_list = []\n",
    "\n",
    "        for distance in distance_list:\n",
    "            # extrace the first element in the tuple \n",
    "            # calculate the distance by following equation\n",
    "            weight = 1 / (distance[0]) ** 2\n",
    "            weight_list.append((weight, distance[1]))\n",
    "        \n",
    "        # sum the weight \n",
    "        first_class_weight = 0.0\n",
    "        second_class_weight = 0.0\n",
    "        for weight in weight_list:\n",
    "            if weight[1] == 1 :\n",
    "                first_class_weight += weight[0]\n",
    "            else:\n",
    "                second_class_weight += weight[0]\n",
    "\n",
    "\n",
    "        # make prediction\n",
    "        if first_class_weight > second_class_weight:\n",
    "            prediction_list.append(1)\n",
    "        else:\n",
    "            prediction_list.append(-1)\n",
    "    \n",
    "    # calculate accuracy\n",
    "    # the number of correct divde the total number of correct values\n",
    "    accuracy  = np.sum(test_y == prediction_list) / len(test_y) * 100\n",
    "\n",
    "    print(f'Get the accuracy {accuracy}%')\n",
    "\n"
   ]
  },
  {
   "cell_type": "code",
   "execution_count": 48,
   "metadata": {},
   "outputs": [
    {
     "name": "stdout",
     "output_type": "stream",
     "text": [
      "Get the accuracy 82.5%\n",
      "Get the accuracy 87.5%\n",
      "Get the accuracy 87.5%\n"
     ]
    }
   ],
   "source": [
    "KNN(L2_norm)\n",
    "KNN(L1_norm)\n",
    "KNN(L_inf)"
   ]
  }
 ],
 "metadata": {
  "kernelspec": {
   "display_name": "master",
   "language": "python",
   "name": "python3"
  },
  "language_info": {
   "codemirror_mode": {
    "name": "ipython",
    "version": 3
   },
   "file_extension": ".py",
   "mimetype": "text/x-python",
   "name": "python",
   "nbconvert_exporter": "python",
   "pygments_lexer": "ipython3",
   "version": "3.12.8"
  }
 },
 "nbformat": 4,
 "nbformat_minor": 2
}
